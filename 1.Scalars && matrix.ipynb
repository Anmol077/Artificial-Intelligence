{
 "cells": [
  {
   "cell_type": "code",
   "execution_count": 1,
   "metadata": {},
   "outputs": [
    {
     "name": "stdout",
     "output_type": "stream",
     "text": [
      "<class 'int'>\n",
      "<class 'int'>\n",
      "11.5\n",
      "0.5\n",
      "33.0\n",
      "1.0909090909090908\n"
     ]
    }
   ],
   "source": [
    "a = 6\n",
    "b = 5.5\n",
    "print(type(a))\n",
    "print(type(a))\n",
    "print(a+b)\n",
    "print(a-b)\n",
    "print(a*b)\n",
    "print(a/b)"
   ]
  },
  {
   "cell_type": "code",
   "execution_count": 2,
   "metadata": {},
   "outputs": [
    {
     "name": "stdout",
     "output_type": "stream",
     "text": [
      "True\n",
      "False\n",
      "True\n"
     ]
    }
   ],
   "source": [
    "import numpy as np\n",
    "print(np.isscalar(2.1))\n",
    "print(np.isscalar([2.1]))\n",
    "print(np.isscalar(False))"
   ]
  },
  {
   "cell_type": "code",
   "execution_count": 3,
   "metadata": {},
   "outputs": [
    {
     "name": "stdout",
     "output_type": "stream",
     "text": [
      "<class 'list'>\n",
      "[1, 2, 3, 4, 5, 6]\n",
      "[5 7 9]\n",
      "<class 'numpy.ndarray'>\n"
     ]
    }
   ],
   "source": [
    "x = [1,2,3]\n",
    "y = [4,5,6]\n",
    "print(type(x))\n",
    "print(x+y)\n",
    "z = np.add(x,y)\n",
    "print(z)\n",
    "print(type(z))\n",
    "\n",
    "\n",
    "\n",
    "#mul = np.cross(x,y)\n",
    "#print(mul)"
   ]
  },
  {
   "cell_type": "code",
   "execution_count": 4,
   "metadata": {},
   "outputs": [
    {
     "data": {
      "text/plain": [
       "21"
      ]
     },
     "execution_count": 4,
     "metadata": {},
     "output_type": "execute_result"
    }
   ],
   "source": [
    "a = np.matrix([x,y])\n",
    "sum = a.sum()\n",
    "sum"
   ]
  },
  {
   "cell_type": "code",
   "execution_count": 5,
   "metadata": {},
   "outputs": [
    {
     "data": {
      "text/plain": [
       "matrix([[ 7, 14, 21],\n",
       "        [28, 35, 42]])"
      ]
     },
     "execution_count": 5,
     "metadata": {},
     "output_type": "execute_result"
    }
   ],
   "source": [
    "mul = 7*a\n",
    "mul"
   ]
  },
  {
   "cell_type": "code",
   "execution_count": 6,
   "metadata": {},
   "outputs": [
    {
     "data": {
      "text/plain": [
       "matrix([[2, 3, 4],\n",
       "        [5, 6, 7]])"
      ]
     },
     "execution_count": 6,
     "metadata": {},
     "output_type": "execute_result"
    }
   ],
   "source": [
    "sum_mat = 1+a\n",
    "sum_mat"
   ]
  },
  {
   "cell_type": "code",
   "execution_count": 7,
   "metadata": {},
   "outputs": [
    {
     "name": "stdout",
     "output_type": "stream",
     "text": [
      "(2, 2)\n",
      "(2, 2)\n",
      "[[ 4  6]\n",
      " [ 7 13]]\n",
      "(2, 2)\n"
     ]
    }
   ],
   "source": [
    "p = np.matrix([[1,2],[4,3]])\n",
    "q = np.matrix([[3,4],[3,10]])\n",
    "print(p.shape)\n",
    "print(q.shape)\n",
    "m_sum = np.add(p,q)\n",
    "print(m_sum)\n",
    "print(m_sum.shape)"
   ]
  },
  {
   "cell_type": "code",
   "execution_count": 9,
   "metadata": {
    "scrolled": true
   },
   "outputs": [
    {
     "data": {
      "text/plain": [
       "array([[38],\n",
       "       [44],\n",
       "       [21]])"
      ]
     },
     "execution_count": 9,
     "metadata": {},
     "output_type": "execute_result"
    }
   ],
   "source": [
    "a = [[2,4,4],[3,5,3],[2,2,1]]\n",
    "b = [[5],[4],[3]]\n",
    "c = np.matmul(a,b)\n",
    "c\n"
   ]
  },
  {
   "cell_type": "code",
   "execution_count": 12,
   "metadata": {},
   "outputs": [
    {
     "data": {
      "text/plain": [
       "array([[35, 55, 40],\n",
       "       [28, 44, 32],\n",
       "       [21, 33, 24]])"
      ]
     },
     "execution_count": 12,
     "metadata": {},
     "output_type": "execute_result"
    }
   ],
   "source": [
    "a = [[2,4,4],[3,5,3],[2,2,1]]\n",
    "z = [[5,5,5],[4,4,4],[3,3,3]]\n",
    "sol = np.matmul(z,a)\n",
    "sol"
   ]
  },
  {
   "cell_type": "code",
   "execution_count": 13,
   "metadata": {},
   "outputs": [
    {
     "name": "stdout",
     "output_type": "stream",
     "text": [
      "[35 44 24]\n"
     ]
    }
   ],
   "source": [
    "print(np.diag(sol))"
   ]
  },
  {
   "cell_type": "code",
   "execution_count": 15,
   "metadata": {},
   "outputs": [
    {
     "name": "stdout",
     "output_type": "stream",
     "text": [
      "[38 44 21]\n"
     ]
    }
   ],
   "source": [
    "a = [[2,4,4],[3,5,3],[2,2,1]]\n",
    "z = [[5,5,5],[4,4,4],[3,3,3]]\n",
    "sol1 = np.matmul(a,z)\n",
    "print(np.diag(sol1))"
   ]
  },
  {
   "cell_type": "code",
   "execution_count": 16,
   "metadata": {},
   "outputs": [
    {
     "data": {
      "text/plain": [
       "array([[2, 3, 2],\n",
       "       [4, 5, 2],\n",
       "       [4, 3, 1]])"
      ]
     },
     "execution_count": 16,
     "metadata": {},
     "output_type": "execute_result"
    }
   ],
   "source": [
    "t = np.transpose(a)\n",
    "t"
   ]
  },
  {
   "cell_type": "code",
   "execution_count": 18,
   "metadata": {},
   "outputs": [
    {
     "name": "stdout",
     "output_type": "stream",
     "text": [
      "(4, 4)\n",
      "Rank of A: 3\n"
     ]
    }
   ],
   "source": [
    "A = np.array([[6,1,1,3],[4,-2,5,1],[0,0,0,0],[4,3,5,3]])\n",
    "print(A.shape)\n",
    "print(\"Rank of A:\",np.linalg.matrix_rank(A))"
   ]
  },
  {
   "cell_type": "code",
   "execution_count": 21,
   "metadata": {},
   "outputs": [
    {
     "name": "stdout",
     "output_type": "stream",
     "text": [
      "(4, 3)\n",
      "Rank of A: 3\n"
     ]
    }
   ],
   "source": [
    "A = np.array([[6,1,1],[4,-2,5],[0,0,0],[4,3,5]])\n",
    "print(A.shape)\n",
    "print(\"Rank of A:\",np.linalg.matrix_rank(A))"
   ]
  },
  {
   "cell_type": "code",
   "execution_count": 22,
   "metadata": {},
   "outputs": [
    {
     "name": "stdout",
     "output_type": "stream",
     "text": [
      "(3, 3)\n",
      "Rank of A: 3\n",
      "nTrace of A: 9\n"
     ]
    }
   ],
   "source": [
    "A = np.array([[6,1,1],[4,-2,5],[4,3,5]])\n",
    "print(A.shape)\n",
    "print(\"Rank of A:\",np.linalg.matrix_rank(A))\n",
    "print(\"nTrace of A:\",np.trace(A))"
   ]
  },
  {
   "cell_type": "code",
   "execution_count": 24,
   "metadata": {},
   "outputs": [
    {
     "name": "stdout",
     "output_type": "stream",
     "text": [
      "Determinant of A: -306.0\n"
     ]
    }
   ],
   "source": [
    "A = np.array([[6,1,1],[4,-2,5],[2,8,7]])\n",
    "print(\"Determinant of A:\", np.linalg.det(A))\n"
   ]
  },
  {
   "cell_type": "code",
   "execution_count": 25,
   "metadata": {},
   "outputs": [
    {
     "name": "stdout",
     "output_type": "stream",
     "text": [
      "<atrix A raised to power 3:\n",
      " [[336 162 228]\n",
      " [406 162 469]\n",
      " [698 702 905]]\n"
     ]
    }
   ],
   "source": [
    "#power of matrix(means multiply matrixs)\n",
    "A = np.array([[6,1,1],[4,-2,5],[2,8,7]])\n",
    "print(\"<atrix A raised to power 3:\\n\",np.linalg.matrix_power(A,3))"
   ]
  },
  {
   "cell_type": "code",
   "execution_count": 27,
   "metadata": {},
   "outputs": [
    {
     "data": {
      "text/plain": [
       "array([[ 6.,  1.,  1.],\n",
       "       [ 4., -2.,  5.],\n",
       "       [ 2.,  8.,  7.]])"
      ]
     },
     "execution_count": 27,
     "metadata": {},
     "output_type": "execute_result"
    }
   ],
   "source": [
    "b = np.identity(3)\n",
    "s = np.matmul(A,b)\n",
    "s"
   ]
  },
  {
   "cell_type": "code",
   "execution_count": 29,
   "metadata": {},
   "outputs": [
    {
     "name": "stdout",
     "output_type": "stream",
     "text": [
      "INverse of matrix:\n",
      " [[ 0.17647059 -0.00326797 -0.02287582]\n",
      " [ 0.05882353 -0.13071895  0.08496732]\n",
      " [-0.11764706  0.1503268   0.05228758]]\n"
     ]
    }
   ],
   "source": [
    "A = np.array([[6,1,1],[4,-2,5],[2,8,7]])\n",
    "print(\"INverse of matrix:\\n\",np.linalg.inv(A))"
   ]
  },
  {
   "cell_type": "code",
   "execution_count": 30,
   "metadata": {},
   "outputs": [
    {
     "data": {
      "text/plain": [
       "array([11.24862343,  5.09285054, -5.34147398])"
      ]
     },
     "execution_count": 30,
     "metadata": {},
     "output_type": "execute_result"
    }
   ],
   "source": [
    "A = np.array([[6,1,1],[4,-2,5],[2,8,7]])\n",
    "w,v = np.linalg.eig(A)\n",
    "#eigen values\n",
    "w"
   ]
  },
  {
   "cell_type": "code",
   "execution_count": 31,
   "metadata": {},
   "outputs": [
    {
     "data": {
      "text/plain": [
       "array([[ 0.24511338,  0.75669314,  0.02645665],\n",
       "       [ 0.40622202, -0.03352363, -0.84078293],\n",
       "       [ 0.88028581, -0.65291014,  0.54072554]])"
      ]
     },
     "execution_count": 31,
     "metadata": {},
     "output_type": "execute_result"
    }
   ],
   "source": [
    "#egin vectors\n",
    "v"
   ]
  },
  {
   "cell_type": "code",
   "execution_count": 34,
   "metadata": {},
   "outputs": [
    {
     "data": {
      "text/plain": [
       "array([2., 3.])"
      ]
     },
     "execution_count": 34,
     "metadata": {},
     "output_type": "execute_result"
    }
   ],
   "source": [
    "a = np.array([[3,1],[1,2]])\n",
    "b = np.array([9,8])\n",
    "x = np.linalg.solve(a,b)\n",
    "x"
   ]
  },
  {
   "cell_type": "code",
   "execution_count": 36,
   "metadata": {},
   "outputs": [
    {
     "data": {
      "text/plain": [
       "array([ 5.,  3., -2.])"
      ]
     },
     "execution_count": 36,
     "metadata": {},
     "output_type": "execute_result"
    }
   ],
   "source": [
    "a = np.array([[1,1,1],[0,2,5],[2,5,-1]])\n",
    "b = np.array([6,-4,27])\n",
    "x = np.linalg.solve(a,b)\n",
    "x"
   ]
  },
  {
   "cell_type": "code",
   "execution_count": null,
   "metadata": {},
   "outputs": [],
   "source": []
  }
 ],
 "metadata": {
  "kernelspec": {
   "display_name": "Python 3",
   "language": "python",
   "name": "python3"
  },
  "language_info": {
   "codemirror_mode": {
    "name": "ipython",
    "version": 3
   },
   "file_extension": ".py",
   "mimetype": "text/x-python",
   "name": "python",
   "nbconvert_exporter": "python",
   "pygments_lexer": "ipython3",
   "version": "3.7.3"
  }
 },
 "nbformat": 4,
 "nbformat_minor": 2
}
